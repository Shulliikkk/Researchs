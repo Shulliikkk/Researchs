{
  "nbformat": 4,
  "nbformat_minor": 0,
  "metadata": {
    "colab": {
      "name": "Взлет РН.ipynb",
      "provenance": [],
      "authorship_tag": "ABX9TyOghJ2axT38yz07z/Q9MRQh",
      "include_colab_link": true
    },
    "kernelspec": {
      "display_name": "Python 3",
      "name": "python3"
    },
    "language_info": {
      "name": "python"
    }
  },
  "cells": [
    {
      "cell_type": "markdown",
      "metadata": {
        "id": "view-in-github",
        "colab_type": "text"
      },
      "source": [
        "<a href=\"https://colab.research.google.com/github/Shulliikkk/Researchs/blob/main/%D0%92%D0%B7%D0%BB%D0%B5%D1%82_%D0%A0%D0%9D.ipynb\" target=\"_parent\"><img src=\"https://colab.research.google.com/assets/colab-badge.svg\" alt=\"Open In Colab\"/></a>"
      ]
    },
    {
      "cell_type": "code",
      "metadata": {
        "colab": {
          "base_uri": "https://localhost:8080/",
          "height": 625
        },
        "id": "PmRDE2ablMek",
        "outputId": "b0a0e53d-8440-4015-9070-5299e828b85f"
      },
      "source": [
        "import numpy as np\n",
        "import matplotlib.pyplot as plt\n",
        "M1 = 80000 #кг\n",
        "M2 = 10000 #кг\n",
        "M3 = 10 #кг\n",
        "m = M1 + M2 + M3\n",
        "\n",
        "mu1 = 300 #кг/с\n",
        "mu2 = 200 #кг/с\n",
        "mu3 = 50 #кг/с\n",
        "\n",
        "u1 = 4000 #м/с\n",
        "u2 = 3000 #м/с\n",
        "u3 = 115 #м/с\n",
        "\n",
        "S = 2 #м^2\n",
        "Cx = 0.4\n",
        "k = 0.05\n",
        "\n",
        "M = 5.9722E24 #кг\n",
        "R = 6371E3 #м\n",
        "G = 6.67430151515E-11\n",
        "mu = G * M\n",
        "\n",
        "def ro(h):\n",
        "  ro0 = 1.2 #кг/м^3\n",
        "  h0 = 9000 #м\n",
        "  if h <= 10*h0:\n",
        "    return ro0*np.exp(-h/h0)\n",
        "  else:\n",
        "    return 0\n",
        "\n",
        "def g(h):\n",
        "  return mu/(R + h)**2\n",
        "\n",
        "\n",
        "dt = 0.01\n",
        "x = [0]\n",
        "y = [0]\n",
        "vx = [0]\n",
        "vy = [0]\n",
        "phi = np.pi/2\n",
        "step = 0\n",
        "\n",
        "v_sound_f = False\n",
        "while m > M2 + M3 + M1*0.05:\n",
        "  x.append(x[step] + vx[step]*dt)\n",
        "  y.append(y[step] + vy[step]*dt)\n",
        "  vx.append(vx[step] + (mu1*u1*np.cos(phi)/m - 0.5*Cx*S*ro(y[step])*(vx[step]**2 + vy[step]**2)*np.cos(phi)/m)*dt)\n",
        "  vy.append(vy[step] + (mu1*u1*np.sin(phi)/m - 0.5*Cx*S*ro(y[step])*(vx[step]**2 + vy[step]**2)*np.sin(phi)/m - g(y[step]))*dt)\n",
        "  if np.sqrt(vx[step]**2 + vy[step]**2) > 350:\n",
        "    if v_sound_f == False:\n",
        "      phi = 90 * np.pi/180\n",
        "      v_sound_f = True\n",
        "    phi -= 0.00009\n",
        "  m -= mu1*dt\n",
        "  step += 1\n",
        "print(y[step])\n",
        "print(np.sqrt(vx[step]**2 + vy[step]**2))\n",
        "print(np.degrees(np.arctan(vy[step]/vx[step])))\n",
        "#'''\n",
        "m -= M1*0.05\n",
        "while m > M3 + M2*0.05:\n",
        "  x.append(x[step] + vx[step]*dt)\n",
        "  y.append(y[step] + vy[step]*dt)\n",
        "  vx.append(vx[step] + (mu2*u2*np.cos(phi)/m - 0.5*Cx*S*ro(y[step])*(vx[step]**2 + vy[step]**2)*np.cos(phi)/m)*dt)\n",
        "  vy.append(vy[step] + (mu2*u2*np.sin(phi)/m - 0.5*Cx*S*ro(y[step])*(vx[step]**2 + vy[step]**2)*np.sin(phi)/m - g(y[step]))*dt)\n",
        "  phi -= 0.00005\n",
        "  m -= mu2*dt\n",
        "  step += 1\n",
        "\n",
        "print('-----------')\n",
        "print(y[step])\n",
        "print(np.sqrt(vx[step]**2 + vy[step]**2))\n",
        "print(np.degrees(np.arctan(vy[step]/vx[step])))\n",
        "print(m)\n",
        "#'''\n",
        "plt.figure(figsize=(8, 8))\n",
        "plt.plot(x, y)\n",
        "plt.axis('square')\n",
        "plt.show()\n",
        "\n"
      ],
      "execution_count": 13,
      "outputs": [
        {
          "output_type": "stream",
          "name": "stdout",
          "text": [
            "218809.82937988633\n",
            "5182.106456309399\n",
            "15.261546686562957\n",
            "-----------\n",
            "248395.06925443525\n",
            "13656.956096063865\n",
            "-6.133892755893148\n",
            "510.0\n"
          ]
        },
        {
          "output_type": "display_data",
          "data": {
            "image/png": "[encoded data removed]",
            "text/plain": [
              "<Figure size 576x576 with 1 Axes>"
            ]
          },
          "metadata": {
            "needs_background": "light"
          }
        }
      ]
    },
    {
      "cell_type": "code",
      "metadata": {
        "colab": {
          "base_uri": "https://localhost:8080/",
          "height": 124
        },
        "id": "zeyLJNMpuQF8",
        "outputId": "53bb0c3b-0b2c-4a93-899d-d9fca6a5846f"
      },
      "source": [
        "import numpy as np\n",
        "M = 5.9722E24 #кг\n",
        "G = 6.67430151515E-11\n",
        "mu = G * M\n",
        "\n",
        "h = 250e3\n",
        "H = 35786e3\n",
        "R = 6371e3\n",
        "\n",
        "r_aver = (R + H)/(R + h)\n",
        "r1 = R + h\n",
        "r2 = R + H\n",
        "\n",
        "v1 = np.sqrt(mu/r1)\n",
        "print(v1)\n",
        "dv1 = v1*(np.sqrt(2*r_aver/(r_aver + 1)) - 1)\n",
        "dv2 = v1/np.sqrt(r_aver) * (1 - np.sqrt(2/(r_aver + 1)))\n",
        "print(dv1)\n",
        "print(dv2)\n",
        "print(dv1 + dv2)\n",
        "\n",
        "\n",
        "print(4000*np.log((10e3 + 1.05*60e3)/(10e3 + 0.05*60e3)))\n",
        "\n",
        "'''\n",
        "1971.454738253135\n",
        "1400.6702634969379\n",
        "492.8572672349832\n",
        "431.2898003743911\n",
        "\n",
        "2428.906237186264\n",
        "1473.5264655995827\n",
        "'''\n",
        "\n"
      ],
      "execution_count": 69,
      "outputs": [
        {
          "output_type": "stream",
          "name": "stdout",
          "text": [
            "7759.04532374112\n",
            "2442.0343795314243\n",
            "1472.7915969040878\n",
            "3914.825976435512\n",
            "6902.040334747417\n"
          ]
        },
        {
          "output_type": "execute_result",
          "data": {
            "application/vnd.google.colaboratory.intrinsic+json": {
              "type": "string"
            },
            "text/plain": [
              "'\\n1971.454738253135\\n1400.6702634969379\\n492.8572672349832\\n431.2898003743911\\n\\n2428.906237186264\\n1473.5264655995827\\n'"
            ]
          },
          "metadata": {},
          "execution_count": 69
        }
      ]
    },
    {
      "cell_type": "code",
      "metadata": {
        "id": "HMVzZ9QomxD4",
        "colab": {
          "base_uri": "https://localhost:8080/"
        },
        "outputId": "78691669-b109-493e-ee58-39266dd3c586"
      },
      "source": [
        "print(1971.454738253135 + 1400.6702634969379 + 492.8572672349832 + 431.2898003743911)\n",
        "print(2428.906237186264 + 1473.5264655995827)\n",
        "print(2458.171142680306 + 1484.1977683035584)\n",
        "print(2473.0390531254343 + 1489.5767104403687)"
      ],
      "execution_count": 37,
      "outputs": [
        {
          "output_type": "stream",
          "name": "stdout",
          "text": [
            "4296.272069359447\n",
            "3902.432702785847\n",
            "3942.368910983864\n",
            "3962.615763565803\n"
          ]
        }
      ]
    },
    {
      "cell_type": "code",
      "metadata": {
        "colab": {
          "base_uri": "https://localhost:8080/",
          "height": 265
        },
        "id": "DaYWr0CmKa6G",
        "outputId": "4634fd5a-88eb-4ae6-d3ca-9c5402041d49"
      },
      "source": [
        "import numpy as np\n",
        "import matplotlib.pyplot as plt\n",
        "v = []\n",
        "M = []\n",
        "for m in range(10000, 30000):\n",
        "  M.append(m)\n",
        "  v.append(3000*np.log((10 + 1.05*m)/(10 + 0.05*m)))\n",
        "plt.plot(M, v)\n",
        "plt.show()"
      ],
      "execution_count": 10,
      "outputs": [
        {
          "output_type": "display_data",
          "data": {
            "image/png": "[encoded data removed]",
            "text/plain": [
              "<Figure size 432x288 with 1 Axes>"
            ]
          },
          "metadata": {
            "needs_background": "light"
          }
        }
      ]
    }
  ]
}
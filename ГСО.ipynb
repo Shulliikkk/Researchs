{
  "nbformat": 4,
  "nbformat_minor": 0,
  "metadata": {
    "colab": {
      "name": "ГСО.ipynb",
      "provenance": [],
      "include_colab_link": true
    },
    "kernelspec": {
      "name": "python3",
      "display_name": "Python 3"
    },
    "language_info": {
      "name": "python"
    }
  },
  "cells": [
    {
      "cell_type": "markdown",
      "metadata": {
        "id": "view-in-github",
        "colab_type": "text"
      },
      "source": [
        "<a href=\"https://colab.research.google.com/github/Shulliikkk/Researchs/blob/main/%D0%93%D0%A1%D0%9E.ipynb\" target=\"_parent\"><img src=\"https://colab.research.google.com/assets/colab-badge.svg\" alt=\"Open In Colab\"/></a>"
      ]
    },
    {
      "cell_type": "markdown",
      "metadata": {
        "id": "v-o4xdlssmoY"
      },
      "source": [
        "### Схема выведения КА на ГСО:"
      ]
    },
    {
      "cell_type": "markdown",
      "metadata": {
        "id": "ZlXxfkme6AJk"
      },
      "source": [
        "\n",
        "1.   Выход на НОО высотой 400 км (1 и 2 ступень РН)\n",
        "2.   Сообщение первого импульса и переход на ГПО (2 ступень РН)\n",
        "3.   Сообщение второго импульса и переход на ГСО (3 ступень РН)\n",
        "\n"
      ]
    },
    {
      "cell_type": "markdown",
      "metadata": {
        "id": "Cm_CCXsw9LMU"
      },
      "source": [
        "### Расчет оптимальной массы 3 ступени РН, необходимой для перехода КА с ГПО на ГСО"
      ]
    },
    {
      "cell_type": "code",
      "metadata": {
        "id": "Fj8m5x2D3GMD"
      },
      "source": [
        "#=======БЛОК КОНСТАНТ=======\n",
        "# Все величины, которые будут использоваться в дальнейшем, будут выражены в СИ, если не оговорено инного \n",
        "from numpy import sqrt, sin, cos, exp, pi, log\n",
        "M = 5.9722E24 # масса Земли\n",
        "R = 6371E3 # радиус Земли\n",
        "G = 6.6743E-11 #гравитационная постоянная\n",
        "mu = G * M # гравитационный параметр Земли"
      ],
      "execution_count": 2,
      "outputs": []
    },
    {
      "cell_type": "code",
      "metadata": {
        "colab": {
          "base_uri": "https://localhost:8080/"
        },
        "id": "MQzc8utR55wY",
        "outputId": "b328783d-b57f-42de-c62f-0dced619bc77"
      },
      "source": [
        "# высота и радиус НОО\n",
        "h = 400e3 \n",
        "r1 = R + h\n",
        "# высота и радиус ГСО\n",
        "H = 35786e3\n",
        "r2 = R + H\n",
        "\n",
        "r_ratio = r2/r1 #соотношение радиусов орбит \n",
        "\n",
        "v1 = sqrt(mu/r1) #орбитальная скорость на НОО\n",
        "v_apo = sqrt(mu * (2/r2 - 2/(r1 + r2))) #скорость в апогее ГПО\n",
        "\n",
        "dv1 = v1*(sqrt(2*r_ratio/(r_ratio + 1)) - 1) #приращение скорости, необходимое для перехода с НОО на ГПО (пригодится в дальнейшем)\n",
        "dv2 = v1/sqrt(r_ratio) * (1 - sqrt(2/(r_ratio + 1))) #приращение скорости в апогее ГПО, необходимое для перехода на ГСО\n",
        "\n",
        "print('v1 =', v1)\n",
        "print('dv1 =', dv1)\n",
        "print('dv2 =', dv2)\n",
        "print('dv1 + dv2 =', dv1 + dv2)\n",
        "print('v1 + dv1 + dv2 =', v1 + dv1 + dv2)\n"
      ],
      "execution_count": 3,
      "outputs": [
        {
          "output_type": "stream",
          "name": "stdout",
          "text": [
            "v1 = 7672.618886595345\n",
            "dv1 = 2399.3584848363753\n",
            "dv2 = 1457.2301295227762\n",
            "dv1 + dv2 = 3856.5886143591515\n",
            "v1 + dv1 + dv2 = 11529.207500954497\n"
          ]
        }
      ]
    },
    {
      "cell_type": "markdown",
      "metadata": {
        "id": "9ka5vH9DK_VV"
      },
      "source": [
        "Зададим некоторые параметры 3 ступени РН\n"
      ]
    },
    {
      "cell_type": "code",
      "metadata": {
        "id": "8JWJiLYcBcYO"
      },
      "source": [
        "# масса ПН (КА)\n",
        "m_s = 5 \n",
        "\n",
        "# параметры двигателя (тяга выбрана 20 кН, что примерно равно тяге двигателя разгонного блока Фрегат)\n",
        "u3 = 500 # скорость истечения газов из сопла оностительно ракеты\n",
        "mu3 = 40 # расход топлива\n",
        "m_eng = 75 # масса двигателя\n",
        "m_c = 20 # масса конструкции:)\n",
        "\n",
        "M3_empt = m_s + m_eng + m_c"
      ],
      "execution_count": 4,
      "outputs": []
    },
    {
      "cell_type": "markdown",
      "metadata": {
        "id": "dCuBMRTVLhfJ"
      },
      "source": [
        "По формуле Циолковского рассчитаем массу топлива, необходимую для данного маневра\n",
        "\n",
        "$$1457 = u_3\\ln{\\frac{m_s + m_{eng} + m_c + m_f}{m_s + m_{eng} + m_c}} = 500\\ln{\\frac{100 + m_f}{100}}$$ \n",
        "\n",
        "$$m_f = 1743 \\; kg$$\n",
        "\n",
        "Уточним её"
      ]
    },
    {
      "cell_type": "code",
      "metadata": {
        "colab": {
          "base_uri": "https://localhost:8080/"
        },
        "id": "xS8H4jVQ4Qc4",
        "outputId": "beeb7f8e-b849-4bb6-cff8-ace475a76c2e"
      },
      "source": [
        "dt = 0.001\n",
        "for m_f in range(1740, 1900, 1):\n",
        "  # координаты апоцентра ГПО\n",
        "  x = -r2\n",
        "  y = 0\n",
        "  # компоненты начначальной скорости\n",
        "  vx = 0\n",
        "  vy = -v_apo\n",
        "  m = M3_empt + m_f\n",
        "  m0 = m\n",
        "  f = True # флаг, показывающий, хватило ли топлива \n",
        "  while sqrt(vx**2 + vy**2) < v_apo + dv2:\n",
        "    r = sqrt(x**2 + y**2) # модуль радиус-вектора\n",
        "    x += vx*dt\n",
        "    y += vy*dt\n",
        "    ax = -mu/r**2 * x/r - mu3*u3/m * y/r\n",
        "    ay = -mu/r**2 * y/r + mu3*u3/m * x/r\n",
        "    vx += ax*dt\n",
        "    vy += ay*dt\n",
        "    if m - mu3*dt > M3_empt:\n",
        "      m -= mu3*dt\n",
        "    else:\n",
        "      f = False\n",
        "      break\n",
        "  if f:\n",
        "    print(m0)\n",
        "    break"
      ],
      "execution_count": 5,
      "outputs": [
        {
          "output_type": "stream",
          "name": "stdout",
          "text": [
            "1845\n"
          ]
        }
      ]
    },
    {
      "cell_type": "markdown",
      "metadata": {
        "id": "iEB3aW7CTrc7"
      },
      "source": [
        "Получим $1845$ и округлим до $1850$, поскольку расчеты велись для идеального случая точного попадания на ГСО\n",
        "\n",
        "Таким образом уточненная масса топлива равна $m_f = 1850 \\; kg$, а оптимальная масса всей 3 ступени $M_{III} = 1950 \\; kg$\n"
      ]
    },
    {
      "cell_type": "markdown",
      "metadata": {
        "id": "hlDXSvgOsgnn"
      },
      "source": [
        "### Ориентировочное определение весовых характеристик ступеней РН"
      ]
    },
    {
      "cell_type": "markdown",
      "metadata": {
        "id": "U9PtmwuFWRob"
      },
      "source": [
        "\n",
        "Введем коэффициент $\\gamma$, показывающий сооотношение между массами ступеней:\n",
        "$$\\gamma = \\frac{M_{II}}{M_I}$$\n",
        "\n",
        "Характеристическая скорость 1 ступени:\n",
        "\n",
        "$$\\Delta v_I = u_1\\ln{\\frac{M_I + M_{II} + M_{III}}{kM_I + M_{II} + M_{III}}} = u_1\\ln{\\frac{M_{III} + M_{I}(1 + \\gamma)}{M_{III} + M_{I}(k + \\gamma)}}$$\n",
        "\n",
        "Характеристическая скорость 2 ступени:\n",
        "\n",
        "$$\\Delta v_{II} = u_2\\ln{\\frac{M_{II} + M_{III}}{kM_{II} + M_{III}}} = u_2\\ln{\\frac{M_{III} + \\gamma M_{I}}{M_{III} + k \\gamma M_{I}}}$$\n",
        "\n",
        "Общая характеристическая скорость:\n",
        "\n",
        "$$\\Delta v = \\Delta v_I + \\Delta v_{II} = v_1 + \\Delta v_1 = 7672.6 + 2399.4 = 10072 \\; m/s$$\n",
        "\n",
        "$$\\Delta v = u_1\\ln{\\frac{M_{III} + M_{I}(1 + \\gamma)}{M_{III} + M_{I}(k + \\gamma)}} + u_2\\ln{\\frac{M_{III} + \\gamma M_{I}}{M_{III} + k \\gamma M_{I}}}$$\n",
        "\n",
        "Добавим к характеристической скорости потери на преодоление сопротивления атмосферы и притяжения Земли $\\approx 2000 \\; m/s$\n",
        "\n",
        "Получим:\n",
        "\n",
        "$$12100 = 4000\\ln{\\frac{1950 + M_{I}(1 + \\gamma)}{1950 + M_{I}(0.05 + \\gamma)}} + 3500\\ln{\\frac{1950 + \\gamma M_{I}}{1950 + 0.05 \\gamma M_{I}}}$$\n",
        "\n",
        "Последовательно переберем $\\gamma$ от 0.01 до 0.99 с шагом 0.01 и проведем оптимизацию по критерию $M_I + M_{II} \\to min$\n",
        "\n",
        "Решать данное уравнение будем методом бисекции"
      ]
    },
    {
      "cell_type": "code",
      "metadata": {
        "colab": {
          "base_uri": "https://localhost:8080/"
        },
        "id": "f3tnFJyzp1tc",
        "outputId": "34469d4d-c380-4a75-de4d-74b0ec942f79"
      },
      "source": [
        "k = 0.05\n",
        "M3 = 1950\n",
        "u1 = 4000 \n",
        "u2 = 3500 \n",
        "dv = 12100\n",
        "def f(m1):\n",
        "  return u1*log((M3 + m1*(1 + gamma))/(M3 + m1*(k + gamma))) + u2*log((M3 + gamma*m1)/(M3 + k*gamma*m1)) - dv\n",
        "gamma_opt = 1\n",
        "M_opt = float('inf')\n",
        "for gamma in range(1, 100):\n",
        "  gamma /= 100\n",
        "  l = 0\n",
        "  r_ = 200e3\n",
        "  e = 1\n",
        "  while r_ - l > 2 * e:\n",
        "    mid = (r_ + l) / 2\n",
        "    if f(l) * f(mid) < 0:\n",
        "      r_ = mid\n",
        "    else:\n",
        "      l = mid\n",
        "  if M_opt > mid + gamma*mid:\n",
        "    gamma_opt = gamma\n",
        "    M_opt = mid + gamma*mid\n",
        "    M1_opt = mid\n",
        "    M2_opt = mid*gamma\n",
        "print(gamma_opt)\n",
        "print('Масса 1 ступени:', M1_opt)\n",
        "print('Масса 2 ступени:', M2_opt)\n",
        "print('Общая масса:', M1_opt + M2_opt + M3)\n",
        "  #print(gamma, 'm2 =', round((mid*gamma + M3)/1000, 2), 'm =', round((mid + mid*gamma + M3)/1000, 2), u1*log((m + mid*(1 + gamma))/(m + mid*(k + gamma))), u2*log((m + gamma*mid)/(m + k*gamma*mid)))"
      ],
      "execution_count": 6,
      "outputs": [
        {
          "output_type": "stream",
          "name": "stdout",
          "text": [
            "0.11\n",
            "Масса 1 ступени: 68186.95068359375\n",
            "Масса 2 ступени: 7500.5645751953125\n",
            "Общая масса: 77637.51525878906\n"
          ]
        }
      ]
    },
    {
      "cell_type": "markdown",
      "metadata": {
        "id": "Hbto00b3vYKy"
      },
      "source": [
        "Таким образом:\n",
        "\n",
        "Масса 1 ступени $M_I \\approx 68 \\; ton$\n",
        "\n",
        "Масса 2 ступени $M_{II} \\approx 7.5 \\; ton$\n",
        "\n",
        "Масса 3 ступени $M_{III} \\approx 1.95 \\; ton$\n",
        "\n",
        "Общая масса $M \\approx 77.6 \\; ton$"
      ]
    },
    {
      "cell_type": "markdown",
      "metadata": {
        "id": "MDCggKxLwjxU"
      },
      "source": [
        "### Расчет параметров выведения"
      ]
    },
    {
      "cell_type": "markdown",
      "metadata": {
        "id": "QdmZOjHmxBL6"
      },
      "source": [
        "Введем плоскоую систему координат с началом в центре Земли, осью $y$, напрвленной на точку старта и осью $x$, перпендикулярной ей.\n",
        "\n",
        "За угол $\\alpha$ обозначим угол между векторм скорости РН и осью $x$\n",
        "\n",
        "За угол $\\theta$ обозначим угол между векторм скорости РН и местным горизонтом (угол тангажа)\n",
        "\n",
        "За угол $\\varphi$ обозначим угол между радиус-вектором РН и осью $x$ \n"
      ]
    },
    {
      "cell_type": "markdown",
      "metadata": {
        "id": "IUfbCIE--jgw"
      },
      "source": [
        "![рн.8NyGF.jpeg](data:image/jpeg;base64,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)"
      ]
    },
    {
      "cell_type": "markdown",
      "metadata": {
        "id": "waNTtWZb-qgW"
      },
      "source": [
        "Запишем соотношение между этими углами:  \n",
        "$\\alpha = \\theta \\; + \\varphi \\; - \\pi/2$\n",
        "\n",
        "На данный угол в каждый момент времени должен быть отклонен вектор скорости РН, чтобы выйти на заданную орбиту"
      ]
    },
    {
      "cell_type": "markdown",
      "metadata": {
        "id": "Il6pg1FuBPq2"
      },
      "source": [
        "Во время полета угол тангажа $\\theta$ должен меняться от $\\pi/2$ (в момент старта) до $0$ (выход на НОО).\n",
        "\n",
        "Программу тангажа представим в виде следующей функции:    \n",
        "\n",
        "$$\\theta(\\mu_t) = V\\mu_t + A$$\n",
        "\n",
        "где $\\theta \\; - $ текущий угол тангажа; $\\mu_t \\; - $ текущая относительная масса; $V, \\; A \\; -$ некие коэффициенты\n",
        "\n",
        "Для начального и конечного момента времени запишем:    \n",
        "\n",
        "$$\\theta(\\mu_{t0}) = \\theta_0 = V\\mu_{t0} + A$$\n",
        "$$\\theta(\\mu_{tk}) = \\theta_k = V\\mu_{tk} + A$$\n",
        "\n",
        "Получим:    \n",
        "\n",
        "$$V = \\frac{\\theta_0 - \\theta_k}{\\mu_{t0} - \\mu_{tk}}$$\n",
        "\n",
        "$$A = \\theta_0 - \\frac{\\theta_0 - \\theta_k}{\\mu_{t0} - \\mu_{tk}}\\mu_{t0}$$"
      ]
    },
    {
      "cell_type": "markdown",
      "metadata": {
        "id": "zjFQ-T8yM6t6"
      },
      "source": [
        "Запишем уравнения движения РН:    \n",
        "$$x = \\frac{dv_x}{dt}$$\n",
        "\n",
        "$$y = \\frac{dv_y}{dt}$$\n",
        "\n",
        "$$v_x = \\frac{da_x}{dt}$$\n",
        "\n",
        "$$v_y = \\frac{da_y}{dt}$$\n",
        "\n",
        "$$a_x = \\frac{\\mu_1u_1}{m}\\cos{\\alpha} -\\frac{GM}{x^2 + y^2}\\cos{\\varphi} \\; - C_x\\frac{S}{m}\\frac{v_x^2 + v_y^2}{2}\\rho\\cos{\\alpha}$$\n",
        "\n",
        "$$a_y = \\frac{\\mu_1u_1}{m}\\sin{\\alpha} -\\frac{GM}{x^2 + y^2}\\sin{\\varphi} \\; - C_x\\frac{S}{m}\\frac{v_x^2 + v_y^2}{2}\\rho\\sin{\\alpha}$$\n",
        "\n",
        "Численно проинтегрируем их с учетом программы тангажа"
      ]
    },
    {
      "cell_type": "code",
      "metadata": {
        "colab": {
          "base_uri": "https://localhost:8080/"
        },
        "id": "aSF7bUz6vNP0",
        "outputId": "ac177ad1-786f-46ef-99fb-7789d1c7fe1e"
      },
      "source": [
        "from math import sqrt, cos, sin, pi, exp, log, asin, degrees\n",
        "\n",
        "M3 = 1945 \n",
        "\n",
        "mu1 = 300 \n",
        "mu2 = 200 \n",
        "\n",
        "u1 = 4000 \n",
        "u2 = 3500 \n",
        "\n",
        "S = 2 \n",
        "Cx = 0.4\n",
        "k = 0.05\n",
        "\n",
        "#плотность атмосферы\n",
        "def ro(h):\n",
        "  ro0 = 1.2 #кг/м^3\n",
        "  h0 = 9000 #м\n",
        "  if h <= 10*h0:\n",
        "    return ro0*exp(-h/h0)\n",
        "  else:\n",
        "    return 0\n",
        "\n",
        "#ускорение свободного падения\n",
        "def g(h):\n",
        "  return mu/(R + h)**2\n",
        "\n",
        "#программа тангажа\n",
        "def teta(mu_t, stage):\n",
        "  if stage == 1:\n",
        "    #начальный и конечный угол тангажа 1 ступени\n",
        "    teta_0 = pi/2\n",
        "    teta_end = teta_aver\n",
        "    #начальная и конечная относительная масса 1 ступени\n",
        "    mu_0 = 1\n",
        "    mu_end = (k*M1 + M2 + M3)/(M1 + M2 + M3)\n",
        "  if stage == 2:\n",
        "    #начальный и конечный угол тангажа 2 ступени\n",
        "    teta_0 = teta_aver\n",
        "    teta_end = 0\n",
        "    #начальная и конечная относительная масса 2 ступени\n",
        "    mu_0 = 1\n",
        "    mu_end = (M3 + m_f)/(M2 + M3)  #начальный и конечный угол тангажа 2 ступени\n",
        "  #коэффициенты\n",
        "  V = (teta_0 - teta_end)/(mu_0 - mu_end)\n",
        "  A = teta_0 - V*mu_0\n",
        "  return V*mu_t + A\n",
        "\n",
        "#оптимизационное уравнение для масс ступеней\n",
        "def f(m1):\n",
        "  return u1*log((M3 + m1*(1 + gamma))/(M3 + m1*(k + gamma))) + u2*log((M3 + gamma*m1)/(M3 + k*gamma*m1)) - dv\n",
        "\n",
        "M0_opt = float('inf')\n",
        "# т.к. мы точно не знаем, сколько характеристической скорости понадобится для выхода на ноо и перехода на гпо,\n",
        "# сделаем перебор по возможным dv\n",
        "for dv in range(12100, 13000, 100):\n",
        "  #найдем оптимальные массы 1 и 2 ступени\n",
        "  M_opt = float('inf')\n",
        "  for gamma in range(1, 100):\n",
        "    gamma /= 100\n",
        "    l = 0\n",
        "    r_ = 200e3\n",
        "    e = 1\n",
        "    while r_ - l > 2 * e:\n",
        "      mid = (r_ + l) / 2\n",
        "      if f(l) * f(mid) < 0:\n",
        "        r_ = mid\n",
        "      else:\n",
        "        l = mid\n",
        "    if M_opt > mid + gamma*mid:\n",
        "      M_opt = mid + gamma*mid\n",
        "      M1 = mid\n",
        "      M2 = mid*gamma\n",
        "\n",
        "  # чтобы обеспечить точный выход по высоте на заданную орбиту\n",
        "  # переберем конечный угол тангажа 1 ступени\n",
        "  for teta_aver in range(50, 80):\n",
        "    teta_aver *= pi/180\n",
        "    #начальные параметры\n",
        "    dt = 0.01\n",
        "    x = [0]\n",
        "    y = [R]\n",
        "    vx = 0\n",
        "    vy = 0\n",
        "    m = M1 + M2 + M3\n",
        "    m0 = M1 + M2 + M3\n",
        "    step = 0\n",
        "    # пока не отработали 1 ступень:\n",
        "    while m >= k*M1 + M2 + M3:\n",
        "      r = sqrt(x[step]**2 + y[step]**2) # модуль радиус-вектора\n",
        "      v = sqrt(vy**2 + vx**2) # модуль скорости\n",
        "      mu_t = m/m0 # текущее значение относительной массы\n",
        "      # считаем угол, который должен быть между вектором скорости и осью абсцисс\n",
        "      # чтобы выполнять заданную программу тангажа\n",
        "      if v < 340:\n",
        "        alph = pi/2\n",
        "      else:\n",
        "        alph = teta(mu_t, 1) + asin(y[step]/r) - pi/2\n",
        "      # меняем курс\n",
        "      vx = v*cos(alph)\n",
        "      vy = v*sin(alph)\n",
        "      #считаем ускорения\n",
        "      ax = mu1*u1*cos(alph)/m - g(r - R)*(x[step]/r) - (0.5*Cx*S*ro(r - R)*(v**2)*cos(alph))/m\n",
        "      ay = mu1*u1*sin(alph)/m - g(r - R)*(y[step]/r) - (0.5*Cx*S*ro(r - R)*(v**2)*sin(alph))/m\n",
        "      # меняем координаты\n",
        "      x.append(x[step] + vx*dt)\n",
        "      y.append(y[step] + vy*dt)\n",
        "      # меняем скорости\n",
        "      vx += ax*dt\n",
        "      vy += ay*dt\n",
        "      # меняем массу\n",
        "      m -= mu1*dt\n",
        "      step += 1\n",
        "\n",
        "    #считаем необходимое изменение скорости для выхода на заданную орбиту\n",
        "    delta_v = v1 - v\n",
        "    #считаем примерную остаточную массу 2 ступени\n",
        "    m_fin = (M2 + M3)*exp(-delta_v/u2) - M3\n",
        "    # сохраняем положение и скорость ракеты после отработки 1 ступени\n",
        "    X = x[:]\n",
        "    Y = y[:]\n",
        "    VX = vx\n",
        "    VY = vy\n",
        "    start_step = step\n",
        "    m_fin = round(m_fin)\n",
        "    # чтобы обеспечить заданную орбитальную скорость\n",
        "    # переберем остаточные массы 2 ступени, опираясь на вычисленное раннее приближенное значение\n",
        "    for m_f in range(m_fin - 500, m_fin + 500, 10):\n",
        "      #начальные массы без учета 1 ступени\n",
        "      m = M2 + M3\n",
        "      m0 = M2 + M3\n",
        "      #за начальные параметры берутся параметры после отработки 1 ступени\n",
        "      x = X[:]\n",
        "      y = Y[:]\n",
        "      vx = VX\n",
        "      vy = VY\n",
        "      step = start_step\n",
        "      while m >= M3 + m_f:\n",
        "        r = sqrt(x[step]**2 + y[step]**2)\n",
        "        v = sqrt(vy**2 + vx**2)\n",
        "        mu_t = m/m0\n",
        "        alph = teta(mu_t, 2) + asin(y[step]/r) - pi/2\n",
        "        vx = v*cos(alph)\n",
        "        vy = v*sin(alph)\n",
        "        ax = mu2*u2*cos(alph)/m - g(r - R)*(x[step]/r) - (0.5*Cx*S*ro(r - R)*(v**2)*cos(alph))/m\n",
        "        ay = mu2*u2*sin(alph)/m - g(r - R)*(y[step]/r) - (0.5*Cx*S*ro(r - R)*(v**2)*sin(alph))/m\n",
        "        x.append(x[step] + vx*dt)\n",
        "        y.append(y[step] + vy*dt)\n",
        "        vx += ax*dt\n",
        "        vy += ay*dt\n",
        "        m -= mu2*dt\n",
        "        step += 1\n",
        "      # если высота и скорость с определенной точностью соответствует заданным параметрам ноо\n",
        "      # то производим повторное включение двигателя и смотрим, хватает ли текущей массы для перехода на гпо\n",
        "      # если хватет, то выбираем те параметры РН, которые соответствуют минимальной стартовой массе\n",
        "      GPO = True\n",
        "      if abs(v1 - sqrt(vy**2 + vx**2)) < 5 and abs(h - (r - R)) < 1e3:\n",
        "        v_orbit = v\n",
        "        while v < v_orbit + dv1:\n",
        "          r = sqrt(x[step]**2 + y[step]**2)\n",
        "          v = sqrt(vy**2 + vx**2)\n",
        "          ax = (-mu/r**2) * (x[step]/r) + (mu2*u2/m) * (vx/v)\n",
        "          ay = (-mu/r**2) * (y[step]/r) + (mu2*u2/m) * (vy/v)\n",
        "          x.append(x[step] + vx*dt)\n",
        "          y.append(y[step] + vy*dt)\n",
        "          vx += ax*dt\n",
        "          vy += ay*dt\n",
        "          if m > k*M2 + M3:\n",
        "            m -= mu2*dt\n",
        "          else:\n",
        "            GPO = False\n",
        "            break\n",
        "          step += 1\n",
        "        if GPO != False: #and M1 + M2 + M3 < M0_opt\n",
        "          if M1 + M2 + M3 < M0_opt:\n",
        "            h_opt = r - R\n",
        "            v_opt = v_orbit\n",
        "            M0_opt = M1 + M2 + M3\n",
        "            M1_opt = M1\n",
        "            M2_opt = M2\n",
        "            teta_aver_opt = degrees(teta_aver)\n",
        "            m_f_opt = m_f\n",
        "        GPO = True\n",
        "print('h_orbit =', round(h_opt))\n",
        "print('v_orbit =', round(v_opt, 1))\n",
        "print('M0 =', round(M0_opt, 1))\n",
        "print('M1 = ', round(M1_opt, 1))\n",
        "print('M2 = ', round(M2_opt, 1))\n",
        "print('teta_aver =', teta_aver_opt)\n",
        "print('m_f =', m_f_opt)"
      ],
      "execution_count": 8,
      "outputs": [
        {
          "output_type": "stream",
          "name": "stdout",
          "text": [
            "h_orbit = 400403\n",
            "v_orbit = 7674.2\n",
            "M0 = 96306.7\n",
            "M1 =  85783.4\n",
            "M2 =  8578.3\n",
            "teta_aver = 56.0\n",
            "m_f = 2814\n"
          ]
        }
      ]
    },
    {
      "cell_type": "code",
      "metadata": {
        "colab": {
          "base_uri": "https://localhost:8080/",
          "height": 975
        },
        "id": "Qf6DicRPU4aR",
        "outputId": "c5239d8c-4512-43af-fe0c-07cd31cf6a10"
      },
      "source": [
        "from math import sqrt, cos, sin, pi, exp, log, asin, degrees\n",
        "import matplotlib.pyplot as plt\n",
        "import time\n",
        "#92506.40869140625 9250.640869140625 54.0 2908\n",
        "M1 =  85783.4\n",
        "M2 =  8578.3\n",
        "M3 = 1945 \n",
        "\n",
        "mu1 = 300 \n",
        "mu2 = 200\n",
        "mu3 = 40 \n",
        "\n",
        "u1 = 4000 \n",
        "u2 = 3500\n",
        "u3 = 500\n",
        "\n",
        "S = 2 \n",
        "Cx = 0.4\n",
        "k = 0.05\n",
        "\n",
        "#плотность атмосферы\n",
        "def ro(h):\n",
        "  ro0 = 1.2 #кг/м^3\n",
        "  h0 = 9000 #м\n",
        "  if h <= 10*h0:\n",
        "    return ro0*exp(-h/h0)\n",
        "  else:\n",
        "    return 0\n",
        "\n",
        "#ускорение свободного падения\n",
        "def g(h):\n",
        "  return mu/(R + h)**2\n",
        "\n",
        "#программа тангажа\n",
        "teta_aver = 56.0*pi/180\n",
        "m_f = 2815\n",
        "def teta(mu_t, stage):\n",
        "  if stage == 1:\n",
        "    #начальный и конечный угол тангажа 1 ступени\n",
        "    teta_0 = pi/2\n",
        "    teta_end = teta_aver\n",
        "    #начальная и конечная относительная масса 1 ступени\n",
        "    mu_0 = 1\n",
        "    mu_end = (k*M1 + M2 + M3)/(M1 + M2 + M3)\n",
        "  if stage == 2:\n",
        "    #начальный и конечный угол тангажа 2 ступени\n",
        "    teta_0 = teta_aver\n",
        "    teta_end = 0\n",
        "    #начальная и конечная относительная масса 2 ступени\n",
        "    mu_0 = 1\n",
        "    mu_end = (M3 + m_f)/(M2 + M3)  #начальный и конечный угол тангажа 2 ступени\n",
        "  #коэффициенты\n",
        "  V = (teta_0 - teta_end)/(mu_0 - mu_end)\n",
        "  A = teta_0 - V*mu_0\n",
        "  return V*mu_t + A\n",
        "\n",
        "#начальные параметры\n",
        "dt = 0.001\n",
        "x = [0]\n",
        "y = [R]\n",
        "vx = 0\n",
        "vy = 0\n",
        "m = M1 + M2 + M3\n",
        "m0 = M1 + M2 + M3\n",
        "step = 0\n",
        "t = 0\n",
        "# пока не отработали 1 ступень:\n",
        "while m >= k*M1 + M2 + M3:\n",
        "  r = sqrt(x[step]**2 + y[step]**2) # модуль радиус-вектора\n",
        "  v = sqrt(vy**2 + vx**2) # модуль скорости\n",
        "  mu_t = m/m0 # текущее значение относительной массы\n",
        "  # считаем угол, который должен быть между вектором скорости и осью абсцисс\n",
        "  # чтобы выполнять заданную программу тангажа\n",
        "  if v < 340:\n",
        "    alph = pi/2\n",
        "  else:\n",
        "    alph = teta(mu_t, 1) + asin(y[step]/r) - pi/2\n",
        "  # меняем курс\n",
        "  vx = v*cos(alph)\n",
        "  vy = v*sin(alph)\n",
        "  #считаем ускорения\n",
        "  ax = mu1*u1*cos(alph)/m - g(r - R)*(x[step]/r) - (0.5*Cx*S*ro(r - R)*(v**2)*cos(alph))/m\n",
        "  ay = mu1*u1*sin(alph)/m - g(r - R)*(y[step]/r) - (0.5*Cx*S*ro(r - R)*(v**2)*sin(alph))/m\n",
        "  # меняем координаты\n",
        "  x.append(x[step] + vx*dt)\n",
        "  y.append(y[step] + vy*dt)\n",
        "  # меняем скорости\n",
        "  vx += ax*dt\n",
        "  vy += ay*dt\n",
        "  # меняем массу\n",
        "  m -= mu1*dt\n",
        "  step += 1\n",
        "  t += dt\n",
        "print('Отделение 1-й ступени.', 'Включение двигателя 2-й ступени')\n",
        "print('T =', time.strftime(\"%H:%M:%S\",time.gmtime(t)))\n",
        "print('h =', r - R)\n",
        "print('v =', v)\n",
        "\n",
        "m = M2 + M3\n",
        "m0 = M2 + M3\n",
        "while m >= M3 + m_f:\n",
        "  r = sqrt(x[step]**2 + y[step]**2)\n",
        "  v = sqrt(vy**2 + vx**2)\n",
        "  mu_t = m/m0\n",
        "  alph = teta(mu_t, 2) + asin(y[step]/r) - pi/2\n",
        "  vx = v*cos(alph)\n",
        "  vy = v*sin(alph)\n",
        "  ax = mu2*u2*cos(alph)/m - g(r - R)*(x[step]/r) - (0.5*Cx*S*ro(r - R)*(v**2)*cos(alph))/m\n",
        "  ay = mu2*u2*sin(alph)/m - g(r - R)*(y[step]/r) - (0.5*Cx*S*ro(r - R)*(v**2)*sin(alph))/m\n",
        "  x.append(x[step] + vx*dt)\n",
        "  y.append(y[step] + vy*dt)\n",
        "  vx += ax*dt\n",
        "  vy += ay*dt\n",
        "  m -= mu2*dt\n",
        "  step += 1\n",
        "  t += dt\n",
        "print('Выход на НОО.', 'Выключение двигателя 2-й ступени')\n",
        "print('T =', time.strftime(\"%H:%M:%S\",time.gmtime(t)))\n",
        "print('h =', r - R)\n",
        "print('v =', v)\n",
        "plt.xlabel(\"x, м\")\n",
        "plt.ylabel(\"y, м\")\n",
        "plt.plot(x, y)\n",
        "plt.show()\n",
        "\n",
        "x = [x[step]]\n",
        "y = [y[step]]\n",
        "eng_dv1_on = False\n",
        "eng_dv2_on = False\n",
        "block_eng_1 = False\n",
        "block_eng_2 = False\n",
        "telemetry2 = False\n",
        "telemetry3 = False\n",
        "step = 0\n",
        "t_orbit = 0\n",
        "while t_orbit < 60000:\n",
        "  r = sqrt(x[step]**2 + y[step]**2)\n",
        "  v = sqrt(vx**2 + vy**2)\n",
        "  if block_eng_1 == False and eng_dv1_on == False and abs(y[step]) < 10 and x[step] > 0:\n",
        "    print('Включение двигателя 2-й ступени')\n",
        "    print('T =', time.strftime(\"%H:%M:%S\",time.gmtime(t)))\n",
        "    print('h =', r - R)\n",
        "    print('v =', v)\n",
        "    eng_dv1_on = True\n",
        "    a = (r2 + r)/2\n",
        "    v_ell_dv1 = sqrt(mu*(2/r - 1/a))\n",
        "  if block_eng_2 == False and eng_dv2_on == False and abs(y[step]) < 10 and x[step] < 0:\n",
        "    print('Включение двигателя 3-й ступени')\n",
        "    print('T =', time.strftime(\"%H:%M:%S\",time.gmtime(t)))\n",
        "    print('h =', r - R)\n",
        "    print('v =', v)\n",
        "    eng_dv2_on = True\n",
        "    a = (r2 + r)/2\n",
        "    v_ell_dv2 = sqrt(mu*(2/r - 1/a))\n",
        "\n",
        "  if eng_dv1_on or eng_dv2_on:\n",
        "    if eng_dv1_on and v < v_ell_dv1: \n",
        "      ax = -g(r - R)*(x[step]/r) + (mu2*u2/m) * (vx/v)\n",
        "      ay = -g(r - R)*(y[step]/r) + (mu2*u2/m) * (vy/v)\n",
        "      m -= mu2*dt\n",
        "      telemetry2 = True\n",
        "    else:\n",
        "      if telemetry2:\n",
        "        print('Выключение двигателя 2-й ступени.', 'Отделение 2-й ступени')\n",
        "        print('T =', time.strftime(\"%H:%M:%S\",time.gmtime(t)))\n",
        "        print('h =', r - R)\n",
        "        print('v =', v)\n",
        "        telemetry2 = False\n",
        "        eng_dv1_on = False\n",
        "        block_eng_1 = True\n",
        "      m = M3\n",
        "    if eng_dv2_on and v < v_ell_dv2:\n",
        "      ax = -g(r - R)*(x[step]/r) + (mu3*u3/m) * (vx/v)\n",
        "      ay = -g(r - R)*(y[step]/r) + (mu3*u3/m) * (vy/v)\n",
        "      m -= mu3*dt\n",
        "      telemetry3 = True\n",
        "    else:\n",
        "      if telemetry3:\n",
        "        print('Выключение двигателя 3-й ступени.', 'Отделение КА от 3-й ступени')\n",
        "        print('T =', time.strftime(\"%H:%M:%S\",time.gmtime(t)))\n",
        "        print('h =', r - R)\n",
        "        print('v =', v)\n",
        "        telemetry3 = False\n",
        "        eng_dv2_on = False\n",
        "        block_eng_2 = True\n",
        "  else:\n",
        "    ax = -g(r - R)*(x[step]/r)\n",
        "    ay = -g(r - R)*(y[step]/r)\n",
        "  x.append(x[step] + vx*dt)\n",
        "  y.append(y[step] + vy*dt)\n",
        "  vx += ax*dt\n",
        "  vy += ay*dt\n",
        "  step += 1\n",
        "  t += dt\n",
        "  t_orbit += dt\n",
        "\n",
        "plt.xlabel(\"x, м\")\n",
        "plt.ylabel(\"y, м\")\n",
        "plt.plot(x, y)\n",
        "plt.axis('square')\n",
        "plt.show()"
      ],
      "execution_count": 7,
      "outputs": [
        {
          "output_type": "stream",
          "name": "stdout",
          "text": [
            "Отделение 1-й ступени. Включение двигателя 2-й ступени\n",
            "T = 00:04:31\n",
            "h = 325730.0456669787\n",
            "v = 5011.9140570976815\n",
            "Выход на НОО. Выключение двигателя 2-й ступени\n",
            "T = 00:05:00\n",
            "h = 400271.7445787173\n",
            "v = 7674.262284956692\n"
          ]
        },
        {
          "output_type": "display_data",
          "data": {
            "image/png": "[encoded data removed]",
            "text/plain": [
              "<Figure size 432x288 with 1 Axes>"
            ]
          },
          "metadata": {
            "needs_background": "light"
          }
        },
        {
          "output_type": "stream",
          "name": "stdout",
          "text": [
            "Включение двигателя 2-й ступени\n",
            "T = 00:27:25\n",
            "h = 403671.15618146956\n",
            "v = 7670.572689970714\n",
            "Выключение двигателя 2-й ступени. Отделение 2-й ступени\n",
            "T = 00:27:37\n",
            "h = 403844.79834158253\n",
            "v = 10068.884776806177\n",
            "Включение двигателя 3-й ступени\n",
            "T = 05:42:36\n",
            "h = 35812027.06635431\n",
            "v = 1617.3511043627504\n",
            "Выключение двигателя 3-й ступени. Отделение КА от 3-й ступени\n",
            "T = 05:44:58\n",
            "h = 35815638.41455498\n",
            "v = 3073.51063110774\n"
          ]
        },
        {
          "output_type": "display_data",
          "data": {
            "image/png": "[encoded data removed]",
            "text/plain": [
              "<Figure size 432x288 with 1 Axes>"
            ]
          },
          "metadata": {
            "needs_background": "light"
          }
        }
      ]
    },
    {
      "cell_type": "markdown",
      "metadata": {
        "id": "KIy6rFHYVdcq"
      },
      "source": [
        "На большее время симуляция, к сожалению, невозможна, т.к. заканчивется память :("
      ]
    }
  ]
}
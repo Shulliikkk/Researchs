{
  "nbformat": 4,
  "nbformat_minor": 0,
  "metadata": {
    "colab": {
      "name": "ГСО.ipynb",
      "provenance": [],
      "authorship_tag": "ABX9TyM7geZeeI5yEOEBnKIveQcC",
      "include_colab_link": true
    },
    "kernelspec": {
      "name": "python3",
      "display_name": "Python 3"
    },
    "language_info": {
      "name": "python"
    }
  },
  "cells": [
    {
      "cell_type": "markdown",
      "metadata": {
        "id": "view-in-github",
        "colab_type": "text"
      },
      "source": [
        "<a href=\"https://colab.research.google.com/github/Shulliikkk/Researchs/blob/main/%D0%93%D0%A1%D0%9E.ipynb\" target=\"_parent\"><img src=\"https://colab.research.google.com/assets/colab-badge.svg\" alt=\"Open In Colab\"/></a>"
      ]
    },
    {
      "cell_type": "markdown",
      "metadata": {
        "id": "v-o4xdlssmoY"
      },
      "source": [
        "### Схема выведения КА на ГСО:"
      ]
    },
    {
      "cell_type": "markdown",
      "metadata": {
        "id": "ZlXxfkme6AJk"
      },
      "source": [
        "\n",
        "1.   Выход на НОО высотой 400 км (1 и 2 ступень РН)\n",
        "2.   Сообщение первого импульса и переход на ГПО (2 ступень РН)\n",
        "3.   Сообщение второго импульса и переход на ГСО (3 ступень РН)\n",
        "\n"
      ]
    },
    {
      "cell_type": "markdown",
      "metadata": {
        "id": "Cm_CCXsw9LMU"
      },
      "source": [
        "### Расчет оптимальной массы 3 ступени РН, необходимой для перехода КА с ГПО на ГСО"
      ]
    },
    {
      "cell_type": "code",
      "metadata": {
        "id": "Fj8m5x2D3GMD"
      },
      "source": [
        "#=======БЛОК КОНСТАНТ=======\n",
        "# Все величины, которые будут использоваться в дальнейшем, будут выражены в СИ, если не оговорено инного \n",
        "from numpy import sqrt, sin, cos, exp, pi, log\n",
        "M = 5.9722E24 # масса Земли\n",
        "R = 6371E3 # радиус Земли\n",
        "G = 6.6743E-11 #гравитационная постоянная\n",
        "mu = G * M # гравитационный параметр Земли"
      ],
      "execution_count": 23,
      "outputs": []
    },
    {
      "cell_type": "code",
      "metadata": {
        "colab": {
          "base_uri": "https://localhost:8080/"
        },
        "id": "MQzc8utR55wY",
        "outputId": "896250ae-68ee-4f35-a87f-974924b29f3b"
      },
      "source": [
        "# высота и радиус НОО\n",
        "h = 400e3 \n",
        "r1 = R + h\n",
        "# высота и радиус ГСО\n",
        "H = 35786e3\n",
        "r2 = R + H\n",
        "\n",
        "r_ratio = r2/r1 #соотношение радиусов орбит \n",
        "\n",
        "v1 = sqrt(mu/r1) #орбитальная скорость на НОО\n",
        "v_apo = sqrt(mu * (2/r2 - 2/(r1 + r2))) #скорость в апогее ГПО\n",
        "\n",
        "dv1 = v1*(sqrt(2*r_ratio/(r_ratio + 1)) - 1) #приращение скорости, необходимое для перехода с НОО на ГПО (пригодится в дальнейшем)\n",
        "dv2 = v1/sqrt(r_ratio) * (1 - sqrt(2/(r_ratio + 1))) #приращение скорости в апогее ГПО, необходимое для перехода на ГСО\n",
        "\n",
        "print('v1 =', v1)\n",
        "print('dv1 =', dv1)\n",
        "print('dv2 =', dv2)\n",
        "print('dv1 + dv2 =', dv1 + dv2)\n",
        "print('v1 + dv1 + dv2 =', v1 + dv1 + dv2)"
      ],
      "execution_count": 20,
      "outputs": [
        {
          "output_type": "stream",
          "name": "stdout",
          "text": [
            "v1 = 7672.618886595345\n",
            "dv1 = 2399.3584848363753\n",
            "dv2 = 1457.2301295227762\n",
            "dv1 + dv2 = 3856.5886143591515\n",
            "v1 + dv1 + dv2 = 11529.207500954497\n"
          ]
        }
      ]
    },
    {
      "cell_type": "markdown",
      "metadata": {
        "id": "9ka5vH9DK_VV"
      },
      "source": [
        "Зададим некоторые параметры 3 ступени РН\n"
      ]
    },
    {
      "cell_type": "code",
      "metadata": {
        "id": "8JWJiLYcBcYO"
      },
      "source": [
        "# масса ПН (КА)\n",
        "m_s = 5 \n",
        "\n",
        "# параметры двигателя (тяга выбрана 20 кН, что примерно равно тяге двигателя разгонного блока Фрегат)\n",
        "u3 = 500 # скорость истечения газов из сопла оностительно ракеты\n",
        "mu3 = 40 # расход топлива\n",
        "m_eng = 75 # масса двигателя\n",
        "m_c = 20 # масса конструкции:)\n",
        "\n",
        "M3_empt = m_s + m_eng + m_c"
      ],
      "execution_count": 6,
      "outputs": []
    },
    {
      "cell_type": "markdown",
      "metadata": {
        "id": "dCuBMRTVLhfJ"
      },
      "source": [
        "По формуле Циолковского рассчитаем массу топлива, необходимую для данного маневра\n",
        "\n",
        "$$1457 = u_3\\ln{\\frac{m_s + m_{eng} + m_c + m_f}{m_s + m_{eng} + m_c}} = 500\\ln{\\frac{100 + m_f}{100}}$$ \n",
        "\n",
        "$$m_f = 1743 \\; kg$$\n",
        "\n",
        "Уточним её"
      ]
    },
    {
      "cell_type": "code",
      "metadata": {
        "colab": {
          "base_uri": "https://localhost:8080/"
        },
        "id": "xS8H4jVQ4Qc4",
        "outputId": "34c84a5e-57d8-48f9-cdb8-a5ecb714f555"
      },
      "source": [
        "dt = 0.001\n",
        "for m_f in range(1740, 1900, 1):\n",
        "  # координаты апоцентра ГПО\n",
        "  x = -r2\n",
        "  y = 0\n",
        "  # компоненты начначальной скорости\n",
        "  vx = 0\n",
        "  vy = -v_apo\n",
        "  m = M3_empt + m_f\n",
        "  m0 = m\n",
        "  f = True # флаг, показывающий, хватило ли топлива \n",
        "  while sqrt(vx**2 + vy**2) < v_apo + dv2:\n",
        "    r = sqrt(x**2 + y**2) # модуль радиус-вектора\n",
        "    x += vx*dt\n",
        "    y += vy*dt\n",
        "    ax = -mu/r**2 * x/r - mu3*u3/m * y/r\n",
        "    ay = -mu/r**2 * y/r + mu3*u3/m * x/r\n",
        "    vx += ax*dt\n",
        "    vy += ay*dt\n",
        "    if m - mu3*dt > M3_empt:\n",
        "      m -= mu3*dt\n",
        "    else:\n",
        "      f = False\n",
        "      break\n",
        "  if f:\n",
        "    print(m0)\n",
        "    break"
      ],
      "execution_count": 19,
      "outputs": [
        {
          "output_type": "stream",
          "name": "stdout",
          "text": [
            "1845\n"
          ]
        }
      ]
    },
    {
      "cell_type": "markdown",
      "metadata": {
        "id": "iEB3aW7CTrc7"
      },
      "source": [
        "Получим $1845$ и округлим до $1850$, поскольку расчеты велись для идеального случая точного попадания на ГСО\n",
        "\n",
        "Таким образом уточненная масса топлива равна $m_f = 1850 \\; kg$, а оптимальная масса всей 3 ступени $M_{III} = 1950 \\; kg$\n"
      ]
    },
    {
      "cell_type": "markdown",
      "metadata": {
        "id": "hlDXSvgOsgnn"
      },
      "source": [
        "### Ориентировочне определие весовых характеристик ступеней РН"
      ]
    },
    {
      "cell_type": "markdown",
      "metadata": {
        "id": "U9PtmwuFWRob"
      },
      "source": [
        "\n",
        "Введем коэффициент $\\gamma$, показывающий сооотношение между массами ступеней:\n",
        "$$\\gamma = \\frac{M_{II}}{M_I}$$\n",
        "\n",
        "Характеристическая скорость 1 ступени:\n",
        "\n",
        "$$\\Delta v_I = u_1\\ln{\\frac{M_I + M_{II} + M_{III}}{kM_I + M_{II} + M_{III}}} = u_1\\ln{\\frac{M_{III} + M_{I}(1 + \\gamma)}{M_{III} + M_{I}(k + \\gamma)}}$$\n",
        "\n",
        "Характеристическая скорость 2 ступени:\n",
        "\n",
        "$$\\Delta v_{II} = u_2\\ln{\\frac{M_{II} + M_{III}}{kM_{II} + M_{III}}} = u_2\\ln{\\frac{M_{III} + \\gamma M_{I}}{M_{III} + k \\gamma M_{I}}}$$\n",
        "\n",
        "Общая характеристическая скорость:\n",
        "\n",
        "$$\\Delta v = \\Delta v_I + \\Delta v_{II} = v_1 + \\Delta v_1 = 7672.6 + 2399.4 = 10072 \\; m/s$$\n",
        "\n",
        "$$\\Delta v = u_1\\ln{\\frac{M_{III} + M_{I}(1 + \\gamma)}{M_{III} + M_{I}(k + \\gamma)}} + u_2\\ln{\\frac{M_{III} + \\gamma M_{I}}{M_{III} + k \\gamma M_{I}}}$$\n",
        "\n",
        "Добавим к характеристической скорости потери на преодоление сопротивления атмосферы и притяжения Земли $\\approx 1500 \\; m/s$\n",
        "\n",
        "Получим:\n",
        "\n",
        "$$11600 = 4000\\ln{\\frac{1950 + M_{I}(1 + \\gamma)}{1950 + M_{I}(0.05 + \\gamma)}} + 3500\\ln{\\frac{1950 + \\gamma M_{I}}{1950 + 0.05 \\gamma M_{I}}}$$\n",
        "\n",
        "Последовательно переберем $\\gamma$ от 0.01 до 0.99 с шагом 0.01 и проведем оптимизацию по критерию $M_I + M_{II} \\to min$\n",
        "\n",
        "Решать данное уравнение будем методом бисекции"
      ]
    },
    {
      "cell_type": "code",
      "metadata": {
        "colab": {
          "base_uri": "https://localhost:8080/"
        },
        "id": "f3tnFJyzp1tc",
        "outputId": "ea1bac3c-2c73-4547-f41a-af9d4d9ee9c2"
      },
      "source": [
        "k = 0.05\n",
        "M3 = 1950\n",
        "u1 = 4000 \n",
        "u2 = 3500 \n",
        "dv = 11600\n",
        "def f(m1):\n",
        "  return u1*log((M3 + m1*(1 + gamma))/(M3 + m1*(k + gamma))) + u2*log((M3 + gamma*m1)/(M3 + k*gamma*m1)) - dv\n",
        "gamma_opt = 1\n",
        "M_opt = float('inf')\n",
        "for gamma in range(1, 100):\n",
        "  gamma /= 100\n",
        "  l = 0\n",
        "  r = 200e3\n",
        "  e = 1\n",
        "  while r - l > 2 * e:\n",
        "    mid = (r + l) / 2\n",
        "    if f(l) * f(mid) < 0:\n",
        "      r = mid\n",
        "    else:\n",
        "      l = mid\n",
        "  if M_opt > mid + gamma*mid:\n",
        "    gamma_opt = gamma\n",
        "    M_opt = mid + gamma*mid\n",
        "    M1_opt = mid\n",
        "    M2_opt = mid*gamma\n",
        "print(gamma_opt)\n",
        "print('Масса 1 ступени:', M1_opt)\n",
        "print('Масса 2 ступени:', M2_opt)\n",
        "print('Общая масса:', M1_opt + M2_opt + M3)\n",
        "  #print(gamma, 'm2 =', round((mid*gamma + M3)/1000, 2), 'm =', round((mid + mid*gamma + M3)/1000, 2), u1*log((m + mid*(1 + gamma))/(m + mid*(k + gamma))), u2*log((m + gamma*mid)/(m + k*gamma*mid)))"
      ],
      "execution_count": 28,
      "outputs": [
        {
          "output_type": "stream",
          "name": "stdout",
          "text": [
            "0.12\n",
            "Масса 1 ступени: 56327.81982421875\n",
            "Масса 2 ступени: 6759.33837890625\n",
            "Общая масса: 65037.158203125\n"
          ]
        }
      ]
    },
    {
      "cell_type": "markdown",
      "metadata": {
        "id": "Hbto00b3vYKy"
      },
      "source": [
        "Таким образом:\n",
        "\n",
        "Масса 1 ступени $M_I \\approx 56 \\; ton$\n",
        "\n",
        "Масса 2 ступени $M_{II} \\approx 6.8 \\; ton$\n",
        "\n",
        "Масса 3 ступени $M_{III} \\approx 1.95 \\; ton$\n",
        "\n",
        "Общая масса $M \\approx 64.75 \\; ton$"
      ]
    }
  ]
}
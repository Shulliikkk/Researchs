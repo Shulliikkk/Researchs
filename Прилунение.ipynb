{
  "nbformat": 4,
  "nbformat_minor": 0,
  "metadata": {
    "colab": {
      "name": "Untitled0.ipynb",
      "provenance": [],
      "authorship_tag": "ABX9TyNyee5RsU5h3ltapohYlQQf",
      "include_colab_link": true
    },
    "kernelspec": {
      "name": "python3",
      "display_name": "Python 3"
    },
    "language_info": {
      "name": "python"
    }
  },
  "cells": [
    {
      "cell_type": "markdown",
      "metadata": {
        "id": "view-in-github",
        "colab_type": "text"
      },
      "source": [
        "<a href=\"https://colab.research.google.com/github/Shulliikkk/Researchs/blob/main/%D0%9F%D1%80%D0%B8%D0%BB%D1%83%D0%BD%D0%B5%D0%BD%D0%B8%D0%B5.ipynb\" target=\"_parent\"><img src=\"https://colab.research.google.com/assets/colab-badge.svg\" alt=\"Open In Colab\"/></a>"
      ]
    },
    {
      "cell_type": "markdown",
      "metadata": {
        "id": "2WSpK1Vy39Z-"
      },
      "source": [
        "Рассчитаем скорость $v_1$, которую имеет КА в точке включения двигателя, двигаясь по первоначальной круговой орбите:\n",
        "\n",
        "$$v_1 = \\sqrt{\\frac{\\mu_m}{4R_m}}$$\n",
        "где $\\mu_m -$ гравитационный параметр Луны\n",
        "\n",
        "Рассчитаем скорость $v_1'$, которую должен иметь КА в этой же точке, чтобы двигаться по эллиптической орбите с апоцентром в ней же и перецентром на поверхности Луны. \n",
        "\n",
        "Для этого воспользуемся интегралом энергии:\n",
        "\n",
        "$$v_1' = \\sqrt{\\mu_m(\\frac{2}{4R_m} - \\frac{1}{a})}$$\n",
        "\n",
        "$$a = \\frac{4R_m + R_m}{2} = \\frac{5R_m}{2}$$\n",
        "где $a-$ большая полуось эллиптической орбиты\n",
        "\n",
        "Получим:\n",
        "$$v_1' = \\sqrt{\\mu_m(\\frac{2}{4R_m} - \\frac{2}{5R_m})} = \\sqrt{\\frac{\\mu_m}{10R_m}}$$\n",
        "\n",
        "Тогда необходимое приращение скорости $\\Delta v$ можно определить как:\n",
        "\n",
        "$$\\Delta v = v_1' - v_1 = \\sqrt{\\frac{\\mu_m}{10R_m}} - \\sqrt{\\frac{\\mu_m}{4R_m}}$$\n",
        "\n",
        "$\\mu_m = 4902.8 \\; км^3с^{-2}$\n",
        "\n",
        "$R_m = 1737.1 \\; км$\n",
        "\n",
        "$$\\Delta v = \\sqrt{\\frac{4902.8}{10 \\cdot 1737.1}} - \\sqrt{\\frac{4902.8}{4 \\cdot 1737.1}} = -0.31 \\; \\frac{км}{с}$$\n",
        "\n",
        "Скорость $v_2$ вблизи поверхности определим аналогично, с помощью интерграла энергии:\n",
        "\n",
        "$$v_2 = \\sqrt{\\mu_m(\\frac{2}{R_m} - \\frac{2}{5R_m})} = \\sqrt{\\frac{8\\mu_m}{5R_m}} = \\sqrt{\\frac{8 \\cdot 4902.8}{5 \\cdot 1737.1}} = 2.125 \\; \\frac{км}{с}$$\n",
        "\n",
        "А время перелета вычислим следущим образом:\n",
        "\n",
        "$$t = \\frac{T}{2} = \\frac{2\\pi\\sqrt{\\frac{a^3}{\\mu_m}}}{2} = \\pi\\sqrt{\\frac{a^3}{\\mu_m}} = \\pi\\sqrt{\\frac{125R_m^3}{8\\mu_m}}$$\n",
        "\n",
        "где $T -$ орбитальный период КА, движущегося по эллиптической орбите\n",
        "\n",
        "$$t = \\pi\\sqrt{\\frac{125 \\cdot 1737.1^3}{8 \\cdot 4902.8}} = 12840 \\; с \\approx 3.5 \\; ч$$\n",
        "\n",
        "\n"
      ]
    },
    {
      "cell_type": "markdown",
      "metadata": {
        "id": "4XWtjy3B5v3z"
      },
      "source": [
        ""
      ]
    }
  ]
}